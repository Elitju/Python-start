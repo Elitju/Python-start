{
 "cells": [
  {
   "cell_type": "code",
   "execution_count": 2,
   "metadata": {},
   "outputs": [
    {
     "ename": "FileNotFoundError",
     "evalue": "[Errno 2] No such file or directory: 'custom.css'",
     "output_type": "error",
     "traceback": [
      "\u001b[1;31m---------------------------------------------------------------------------\u001b[0m",
      "\u001b[1;31mFileNotFoundError\u001b[0m                         Traceback (most recent call last)",
      "Cell \u001b[1;32mIn[2], line 6\u001b[0m\n\u001b[0;32m      4\u001b[0m     styles \u001b[38;5;241m=\u001b[39m \u001b[38;5;28mopen\u001b[39m(\u001b[38;5;124m\"\u001b[39m\u001b[38;5;124mcustom.css\u001b[39m\u001b[38;5;124m\"\u001b[39m, \u001b[38;5;124m\"\u001b[39m\u001b[38;5;124mr\u001b[39m\u001b[38;5;124m\"\u001b[39m)\u001b[38;5;241m.\u001b[39mread()\n\u001b[0;32m      5\u001b[0m     \u001b[38;5;28;01mreturn\u001b[39;00m HTML(styles)\n\u001b[1;32m----> 6\u001b[0m \u001b[43mcss_styling\u001b[49m\u001b[43m(\u001b[49m\u001b[43m)\u001b[49m\n",
      "Cell \u001b[1;32mIn[2], line 4\u001b[0m, in \u001b[0;36mcss_styling\u001b[1;34m()\u001b[0m\n\u001b[0;32m      3\u001b[0m \u001b[38;5;28;01mdef\u001b[39;00m \u001b[38;5;21mcss_styling\u001b[39m():\n\u001b[1;32m----> 4\u001b[0m     styles \u001b[38;5;241m=\u001b[39m \u001b[38;5;28;43mopen\u001b[39;49m\u001b[43m(\u001b[49m\u001b[38;5;124;43m\"\u001b[39;49m\u001b[38;5;124;43mcustom.css\u001b[39;49m\u001b[38;5;124;43m\"\u001b[39;49m\u001b[43m,\u001b[49m\u001b[43m \u001b[49m\u001b[38;5;124;43m\"\u001b[39;49m\u001b[38;5;124;43mr\u001b[39;49m\u001b[38;5;124;43m\"\u001b[39;49m\u001b[43m)\u001b[49m\u001b[38;5;241m.\u001b[39mread()\n\u001b[0;32m      5\u001b[0m     \u001b[38;5;28;01mreturn\u001b[39;00m HTML(styles)\n",
      "File \u001b[1;32m~\\AppData\\Local\\Packages\\PythonSoftwareFoundation.Python.3.11_qbz5n2kfra8p0\\LocalCache\\local-packages\\Python311\\site-packages\\IPython\\core\\interactiveshell.py:324\u001b[0m, in \u001b[0;36m_modified_open\u001b[1;34m(file, *args, **kwargs)\u001b[0m\n\u001b[0;32m    317\u001b[0m \u001b[38;5;28;01mif\u001b[39;00m file \u001b[38;5;129;01min\u001b[39;00m {\u001b[38;5;241m0\u001b[39m, \u001b[38;5;241m1\u001b[39m, \u001b[38;5;241m2\u001b[39m}:\n\u001b[0;32m    318\u001b[0m     \u001b[38;5;28;01mraise\u001b[39;00m \u001b[38;5;167;01mValueError\u001b[39;00m(\n\u001b[0;32m    319\u001b[0m         \u001b[38;5;124mf\u001b[39m\u001b[38;5;124m\"\u001b[39m\u001b[38;5;124mIPython won\u001b[39m\u001b[38;5;124m'\u001b[39m\u001b[38;5;124mt let you open fd=\u001b[39m\u001b[38;5;132;01m{\u001b[39;00mfile\u001b[38;5;132;01m}\u001b[39;00m\u001b[38;5;124m by default \u001b[39m\u001b[38;5;124m\"\u001b[39m\n\u001b[0;32m    320\u001b[0m         \u001b[38;5;124m\"\u001b[39m\u001b[38;5;124mas it is likely to crash IPython. If you know what you are doing, \u001b[39m\u001b[38;5;124m\"\u001b[39m\n\u001b[0;32m    321\u001b[0m         \u001b[38;5;124m\"\u001b[39m\u001b[38;5;124myou can use builtins\u001b[39m\u001b[38;5;124m'\u001b[39m\u001b[38;5;124m open.\u001b[39m\u001b[38;5;124m\"\u001b[39m\n\u001b[0;32m    322\u001b[0m     )\n\u001b[1;32m--> 324\u001b[0m \u001b[38;5;28;01mreturn\u001b[39;00m \u001b[43mio_open\u001b[49m\u001b[43m(\u001b[49m\u001b[43mfile\u001b[49m\u001b[43m,\u001b[49m\u001b[43m \u001b[49m\u001b[38;5;241;43m*\u001b[39;49m\u001b[43margs\u001b[49m\u001b[43m,\u001b[49m\u001b[43m \u001b[49m\u001b[38;5;241;43m*\u001b[39;49m\u001b[38;5;241;43m*\u001b[39;49m\u001b[43mkwargs\u001b[49m\u001b[43m)\u001b[49m\n",
      "\u001b[1;31mFileNotFoundError\u001b[0m: [Errno 2] No such file or directory: 'custom.css'"
     ]
    }
   ],
   "source": [
    "#ignore this, it's something that helps styling the notebook.\n",
    "from IPython.core.display import HTML\n",
    "def css_styling():\n",
    "    styles = open(\"custom.css\", \"r\").read()\n",
    "    return HTML(styles)\n",
    "css_styling()"
   ]
  },
  {
   "cell_type": "code",
   "execution_count": null,
   "metadata": {},
   "outputs": [],
   "source": []
  },
  {
   "cell_type": "markdown",
   "metadata": {},
   "source": [
    "<div class=\"info\">\n",
    "PROBLEM SHEET 1: The aim of this first problem sheet is to introduce you to the environment in which we will be running Python during the post exam period. The computers in the teaching lab have several version of Python installed and as we will see it can be used in different ways. When we return to onsite lab sessions we will be using the Anaconda installation, with a Python 3.x version. \n"
   ]
  },
  {
   "cell_type": "markdown",
   "metadata": {},
   "source": [
    "<div class=\"exercise\">\n",
    "Ex1: Creating new cells in the Jupyter notebook"
   ]
  },
  {
   "cell_type": "markdown",
   "metadata": {},
   "source": [
    "* Create a new **Code** cell below, inside the **code** cell create a variable called *weekday* and set it's value to the *string* that is the name of the day when you type it (i.e Thursday)\n",
    "* Create a new **Markdown** cell below, inside the **Markdown** cell:\n",
    "  * write your name in bold  \n",
    "  * make a indented list of your three favourite films \n",
    "  * use $\\LaTeX$ math mode to write down Einstein's equation that shows that energy and mass are interchangeable.\n",
    "\n",
    "`Hint: double clicking on a markdown cell like this one shows what I needed to type to create it)`\n",
    "\n",
    "__[This link is for a jupyter notebook markdown cheatsheet](https://www.ibm.com/docs/en/watson-studio-local/1.2.3?topic=notebooks-markdown-jupyter-cheatsheet)__\n"
   ]
  },
  {
   "cell_type": "code",
   "execution_count": 1,
   "metadata": {
    "tags": []
   },
   "outputs": [],
   "source": [
    "weekday = \"Thursday\""
   ]
  },
  {
   "cell_type": "markdown",
   "metadata": {},
   "source": [
    "__Ali__\n",
    "<br>\n",
    "> Interstellar\n",
    "<br>\n",
    "> Oppenheimer\n",
    "<br>\n",
    "> John Wick 4\n",
    "\n",
    "$E = mc^2$"
   ]
  },
  {
   "cell_type": "markdown",
   "metadata": {},
   "source": [
    "<div class=\"exercise\"> Ex2: Using Python as a calculator"
   ]
  },
  {
   "cell_type": "markdown",
   "metadata": {},
   "source": [
    "In the code window below (marked enter your answer for EX2 here), calculate and **print** to screen\n",
    "\n",
    "* $7^{3}$\n",
    "* $\\pi r^2$ where $r=2 ~\\rm{m}$\n",
    "* The square root of 17\n",
    "* The factorial of 17\n",
    "* The sine of 53 degrees\n",
    "\n",
    "\n",
    "How many digits do you get when you calculate 1/3? write some code to return 1/3 rounded to the 3 decimal places.\n",
    "\n",
    "\n"
   ]
  },
  {
   "cell_type": "code",
   "execution_count": null,
   "metadata": {},
   "outputs": [],
   "source": [
    "# Using the hash symbol allows you to include comments in your code which will not be interpreted by python\n",
    "# If I type a list of calculations, such as:\n",
    "3+4\n",
    "5*6\n",
    "22/3.3 #and then run the code cell (either by holding shift+enter or the run button)\n"
   ]
  },
  {
   "cell_type": "code",
   "execution_count": null,
   "metadata": {},
   "outputs": [],
   "source": [
    "#Then I only see the last output, I did not tell Python to do anything with the calculations, if however I use the print() function:\n",
    "print(3+4)\n",
    "print(5*6)\n",
    "print(22/3.3) # Also notice that the Jupyter notebooks has automatically changes the colour for comments and functions etc"
   ]
  },
  {
   "cell_type": "code",
   "execution_count": null,
   "metadata": {},
   "outputs": [],
   "source": [
    "# Then I see that all the values have been printed to the screen, I can learn more about how print() works by using the help() function, with print as the argument (the value inside the brackets)\n",
    "help(print) #this displays information about the function called it's docstring"
   ]
  },
  {
   "cell_type": "code",
   "execution_count": null,
   "metadata": {},
   "outputs": [],
   "source": [
    "# Note that some of these basic maths operations are not available in the standard python library if you try\n",
    "sin(10)\n",
    "# You will recieve a NameError: name 'sin'is not defined\n",
    "# The functions can be found in the math module, to access this you will first need to import the functions into your code (i.e. import math) loads the names, dir(math) will return a list of the names of all of the functions in the math module,\n",
    "# math.funcname() will let you use function (i.e to find the log of 10, you type math.log(10), this tells python to use the log function from the math module)\n",
    "# Use the help() function to learn what the function in the module do."
   ]
  },
  {
   "cell_type": "code",
   "execution_count": null,
   "metadata": {},
   "outputs": [],
   "source": [
    "# Enter your answer for EX2 here:\n",
    "import math\n",
    "#help(math) #I then opened the text editor and did the rest of the exercises using basic python knowledge and this\n",
    "print(7**3)\n",
    "print(math.pi**2)\n",
    "print(math.sqrt(17))\n",
    "print(math.factorial(17))\n",
    "print(math.sin(53))\n",
    "\n"
   ]
  },
  {
   "cell_type": "markdown",
   "metadata": {},
   "source": [
    "<div class=\"exercise\"> EX3: Requesting inputs from users and returning the output after evaluation:"
   ]
  },
  {
   "cell_type": "markdown",
   "metadata": {},
   "source": [
    "* A ball is dropped from a tower of height $h$, built on level ground. The ball has initial velocity zero and accelerates downwards under gravity.\n",
    "* Write a program that asks the user to enter the height in meters of the tower and a time interval $t$ in seconds (using the input function), then prints on the screen the height of the ball from the ground at time $t$ after it is dropped, ignoring air resistance.\n",
    "\n"
   ]
  },
  {
   "cell_type": "code",
   "execution_count": null,
   "metadata": {
    "cocalc": {
     "outputs": {
      "0": {
       "name": "input",
       "opts": {
        "password": false,
        "prompt": "Enter height"
       },
       "output_type": "stream",
       "value": "-10"
      }
     }
    },
    "scrolled": true
   },
   "outputs": [],
   "source": [
    "# Enter your answer for EX3 here:\n",
    "\n",
    "h=input('Enter initial height') # first run this to see what happens\n",
    "t = input('Enter time fallen')\n",
    "ch = int(h)-(0.5*9.81*(int(t)**2))\n",
    "if int(ch) <0:\n",
    "    print(\"Ball has bounced into the sunset\")\n",
    "else:\n",
    "    print(\"Ball is now at height \",ch)\n"
   ]
  },
  {
   "cell_type": "markdown",
   "metadata": {},
   "source": [
    "<div class=\"exercise\"> Ex4: A question to practice requesting inputs from users and returning the output after evaluation:\n",
    "\n"
   ]
  },
  {
   "cell_type": "markdown",
   "metadata": {},
   "source": [
    "\n",
    "A satellite is to be launched into a circular orbit around the Earth so that it orbits the planet once every $T$ seconds.\n",
    "\n",
    "*  Show (in the Markdown cell) that the altitude $h$ above the Earths surface that the satellite must have is $h = (GMT^2/4\\pi^2)^{1/3} -R$, where $G = 6.67$ $10^{-11}\\,\\mathrm{m}^3\\mathrm{kg}^{-1}\\mathrm{s}^{-2}$ is Newtons gravitational constant, $M = 5.97$ $10^{24}\\,\\mathrm{kg}$ is the mass of the Earth, and $R = 6371\\,\\mathrm{km}$ is its radius. Before writing a program it is important that you understand what your variables are and what you want the algorithm to do.\n",
    "* Write a program that asks the user to enter the desired value of $T$ and then calculates and prints out the correct altitude in meters.\n",
    "* Use your program to calculate the altitudes of satellites that orbit the Earth once a day (so-called geosynchronous orbit), once every 90 minutes, and once every 45 minutes.\n",
    "* What do you conclude from the last of these calculations?\n",
    "\n"
   ]
  },
  {
   "cell_type": "markdown",
   "metadata": {},
   "source": [
    "Write your answer to the first part here (**Hint:** Remind yourself of Kepler's Third Law)"
   ]
  },
  {
   "cell_type": "markdown",
   "metadata": {},
   "source": []
  },
  {
   "cell_type": "markdown",
   "metadata": {},
   "source": [
    "$F = \\frac{mv^2}{r}$ \n",
    "\n",
    "$F = \\frac{GMm}{r^2}$\n",
    "\n",
    "Equating eliminates satellite mass\n",
    "\n",
    "So, $rv^2 = GM$\n",
    "\n",
    "But $v=  \\frac{2\\pi r}{T}$\n",
    "\n",
    "So, $\\frac{4\\pi^2 r^3}{T^2} = GM$\n",
    "\n",
    "$ r = (\\frac{GMT^2}{4\\pi ^2})^\\frac{1}{3}$\n",
    "\n",
    "Then $r = R_E + h$\n",
    "\n",
    "which finally results in \n",
    "\n",
    "$h = r - R_E = (\\frac{GMT^2}{4\\pi ^2})^\\frac{1}{3} - R_E$\n",
    "\n",
    "\n",
    "\n",
    "\n"
   ]
  },
  {
   "cell_type": "code",
   "execution_count": null,
   "metadata": {},
   "outputs": [],
   "source": [
    "# Enter your code for EX4 here (write a comment for the last part at the end of the code)\n",
    "import math\n",
    "\n",
    "def h_calc(period):\n",
    "    r = 6.67*(10**-11)*5.97*(10**24)*((int(period)*60)**2) / 4*((math.pi)**2)\n",
    "    print(r**(1/3) -6371000)\n",
    "h_calc(input(\"Input time period of orbit in minutes\")) #inputting let's say 300\n",
    "\n",
    "h_calc(24*60)\n",
    "h_calc(90)\n",
    "h_calc(45)\n",
    "\n",
    "#can be concluded that the faster you travel, the closer you can be to the earth"
   ]
  },
  {
   "cell_type": "markdown",
   "metadata": {},
   "source": [
    "<div class=\"exercise\"> Ex5: Writing to a file."
   ]
  },
  {
   "cell_type": "markdown",
   "metadata": {},
   "source": [
    "* Using the write() method described in the notes, create a file containing the first law of thermodynamic:\n",
    " \n",
    "\n",
    "``In all cases in which work is produced by the agency of heat, a quantity of heat is consumed which\n",
    "is proportional to the work done; and conversely, by the expenditure of an equal quantity of work an equal quantity of heat is produced.''\n",
    "\n",
    "* Write a program to read out the sixth word of the string and then print the whole statement.\n",
    "\n",
    "* Print (to screen) a list of the functions that can operate on the string\n",
    "\n",
    "`hint: type the string name in the interpreter window followed by a '.' and then press tab (auto complete) to see available functions`\n",
    "\n"
   ]
  },
  {
   "cell_type": "code",
   "execution_count": 48,
   "metadata": {
    "tags": []
   },
   "outputs": [],
   "source": [
    "mystring='test'"
   ]
  },
  {
   "cell_type": "code",
   "execution_count": null,
   "metadata": {},
   "outputs": [],
   "source": [
    "mystring."
   ]
  },
  {
   "cell_type": "code",
   "execution_count": 13,
   "metadata": {},
   "outputs": [
    {
     "name": "stdout",
     "output_type": "stream",
     "text": [
      "['In all cases in which work is produced by the agency of heat, a quantity of heat is consumed which\\n', ' is proportional to the work done; and conversely, by the expenditure of an equal quantity of work an equal quantity of heat is produced.']\n",
      "['In', 'all', 'cases', 'in', 'which', 'work', 'is', 'produced', 'by', 'the', 'agency', 'of', 'heat,', 'a', 'quantity', 'of', 'heat', 'is', 'consumed', 'which']\n",
      "work\n",
      "In all cases in which work is produced by the agency of heat, a quantity of heat is consumed which\n",
      "\n",
      " is proportional to the work done; and conversely, by the expenditure of an equal quantity of work an equal quantity of heat is produced.\n"
     ]
    }
   ],
   "source": [
    "#td = open(\"foo.txt\", \"w\" ) # makes an file object fo (could have assigned anyname here) which is the open file foo.txt, if it does not exist it will make it\n",
    "#td.write( \"In all cases in which work is produced by the agency of heat, a quantity of heat is consumed which\\\n",
    "#\\n is proportional to the work done; and conversely, by the expenditure of an equal quantity of work an equal quantity of heat is produced.\" )\n",
    "#td.close()\n",
    "\n",
    "td = open(\"foo.txt\", \"r\")\n",
    "string = \"work\"\n",
    "list = []\n",
    "for line in td:\n",
    "    list.append(line)\n",
    "print(list)\n",
    "for i in range(len(list)):\n",
    "    list2 = list[i-1].split()\n",
    "print(list2)\n",
    "print(list2[5])\n",
    "for i in range(len(list)):\n",
    "    print(list[i])\n",
    "\n",
    "\n",
    "\n",
    "td.close()"
   ]
  },
  {
   "cell_type": "markdown",
   "metadata": {},
   "source": [
    "<div class=\"exercise\"> Ex6: Saving your work"
   ]
  },
  {
   "cell_type": "markdown",
   "metadata": {},
   "source": [
    "* We will be marking Problem Sheet 1 in the first week of the Autumn term, and files will be submitted via turnitin on the Moodle page, ensure that you have access to the work that you have done download the code and save it on your favourite storage mechanism (I suggest your university y-drive, dropbox, and usb stick) each year someone always loses their work (laptops died or lost/stolen etc)\n",
    "\n"
   ]
  },
  {
   "cell_type": "markdown",
   "metadata": {},
   "source": [
    "### Next Step\n",
    "\n",
    "Either return to the [Start Menu](2024_Postexam_PH2150_Start_here.ipynb), or move on to [Problem Sheet 2](Problem_Sheet_2.ipynb)"
   ]
  },
  {
   "cell_type": "code",
   "execution_count": 42,
   "metadata": {},
   "outputs": [],
   "source": [
    "mystring = 'test'"
   ]
  },
  {
   "cell_type": "code",
   "execution_count": null,
   "metadata": {},
   "outputs": [],
   "source": [
    "mystring."
   ]
  },
  {
   "cell_type": "code",
   "execution_count": null,
   "metadata": {},
   "outputs": [],
   "source": []
  }
 ],
 "metadata": {
  "kernelspec": {
   "display_name": "Python 3 (ipykernel)",
   "language": "python",
   "name": "python3"
  },
  "language_info": {
   "codemirror_mode": {
    "name": "ipython",
    "version": 3
   },
   "file_extension": ".py",
   "mimetype": "text/x-python",
   "name": "python",
   "nbconvert_exporter": "python",
   "pygments_lexer": "ipython3",
   "version": "3.11.9"
  }
 },
 "nbformat": 4,
 "nbformat_minor": 4
}
